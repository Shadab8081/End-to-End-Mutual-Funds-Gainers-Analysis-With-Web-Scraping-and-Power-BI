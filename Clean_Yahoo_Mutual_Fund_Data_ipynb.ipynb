{
  "nbformat": 4,
  "nbformat_minor": 0,
  "metadata": {
    "colab": {
      "provenance": []
    },
    "kernelspec": {
      "name": "python3",
      "display_name": "Python 3"
    },
    "language_info": {
      "name": "python"
    }
  },
  "cells": [
    {
      "cell_type": "markdown",
      "source": [
        "# 1. Import Required Libraries"
      ],
      "metadata": {
        "id": "SpXcYnMR5KK0"
      }
    },
    {
      "cell_type": "code",
      "execution_count": 1,
      "metadata": {
        "id": "k6yRco3Io582"
      },
      "outputs": [],
      "source": [
        "import pandas as pd\n",
        "import numpy as np"
      ]
    },
    {
      "cell_type": "markdown",
      "source": [
        "# 2. Load and Inspect the Data"
      ],
      "metadata": {
        "id": "LZdwfAL75Nbf"
      }
    },
    {
      "cell_type": "code",
      "source": [
        "df = pd.read_csv(r\"/content/yahoo_mutual_fund_gainers.csv\")"
      ],
      "metadata": {
        "id": "E6excyKQo_0d"
      },
      "execution_count": 6,
      "outputs": []
    },
    {
      "cell_type": "markdown",
      "source": [
        "# View initial records"
      ],
      "metadata": {
        "id": "gHTslHX15R73"
      }
    },
    {
      "cell_type": "code",
      "source": [
        "df.head()"
      ],
      "metadata": {
        "colab": {
          "base_uri": "https://localhost:8080/",
          "height": 538
        },
        "id": "51BUzlq-pVy-",
        "outputId": "71c1ffd6-4914-4dce-9318-c34b9cea8d7d"
      },
      "execution_count": 7,
      "outputs": [
        {
          "output_type": "execute_result",
          "data": {
            "text/plain": [
              "       Symbol                                      Name               Price  \\\n",
              "0       FTPAX           First Trust Private Assets Fund  11.51+0.89(+8.38%)   \n",
              "1  0P0001T9Z1           CSOP Ether ETF Unlisted Share C   6.23+0.28(+4.67%)   \n",
              "2       GRHIX     Goehring & Rozencwajg Resources Instl  14.13+0.52(+3.82%)   \n",
              "3       GRHAX    Goehring & Rozencwajg Resources Retail  13.93+0.50(+3.72%)   \n",
              "4       PMPIX  ProFunds Precious Metals UltraSector Inv  78.73+2.70(+3.55%)   \n",
              "\n",
              "   Change Change % 50 Day Avg 200 Day Avg 3 Month Return YTD Return  \\\n",
              "0    0.89   +8.38%      10.82       10.82             --         --   \n",
              "1    0.28   +4.67%       4.70        6.65        -43.65%    -48.37%   \n",
              "2    0.52   +3.82%      12.87       13.11         -2.39%     +0.80%   \n",
              "3    0.50   +3.72%      12.70       12.94         -2.50%     +0.64%   \n",
              "4    2.70   +3.55%      73.49       61.20        +38.01%    +69.71%   \n",
              "\n",
              "  52 Wk Change %  52 Wk Range  \n",
              "0        +11.53%          NaN  \n",
              "1        -31.09%          NaN  \n",
              "2         -5.61%          NaN  \n",
              "3         -5.81%          NaN  \n",
              "4        +49.99%          NaN  "
            ],
            "text/html": [
              "\n",
              "  <div id=\"df-93238750-5c4c-4da1-af4c-c4568b8f0a73\" class=\"colab-df-container\">\n",
              "    <div>\n",
              "<style scoped>\n",
              "    .dataframe tbody tr th:only-of-type {\n",
              "        vertical-align: middle;\n",
              "    }\n",
              "\n",
              "    .dataframe tbody tr th {\n",
              "        vertical-align: top;\n",
              "    }\n",
              "\n",
              "    .dataframe thead th {\n",
              "        text-align: right;\n",
              "    }\n",
              "</style>\n",
              "<table border=\"1\" class=\"dataframe\">\n",
              "  <thead>\n",
              "    <tr style=\"text-align: right;\">\n",
              "      <th></th>\n",
              "      <th>Symbol</th>\n",
              "      <th>Name</th>\n",
              "      <th>Price</th>\n",
              "      <th>Change</th>\n",
              "      <th>Change %</th>\n",
              "      <th>50 Day Avg</th>\n",
              "      <th>200 Day Avg</th>\n",
              "      <th>3 Month Return</th>\n",
              "      <th>YTD Return</th>\n",
              "      <th>52 Wk Change %</th>\n",
              "      <th>52 Wk Range</th>\n",
              "    </tr>\n",
              "  </thead>\n",
              "  <tbody>\n",
              "    <tr>\n",
              "      <th>0</th>\n",
              "      <td>FTPAX</td>\n",
              "      <td>First Trust Private Assets Fund</td>\n",
              "      <td>11.51+0.89(+8.38%)</td>\n",
              "      <td>0.89</td>\n",
              "      <td>+8.38%</td>\n",
              "      <td>10.82</td>\n",
              "      <td>10.82</td>\n",
              "      <td>--</td>\n",
              "      <td>--</td>\n",
              "      <td>+11.53%</td>\n",
              "      <td>NaN</td>\n",
              "    </tr>\n",
              "    <tr>\n",
              "      <th>1</th>\n",
              "      <td>0P0001T9Z1</td>\n",
              "      <td>CSOP Ether ETF Unlisted Share C</td>\n",
              "      <td>6.23+0.28(+4.67%)</td>\n",
              "      <td>0.28</td>\n",
              "      <td>+4.67%</td>\n",
              "      <td>4.70</td>\n",
              "      <td>6.65</td>\n",
              "      <td>-43.65%</td>\n",
              "      <td>-48.37%</td>\n",
              "      <td>-31.09%</td>\n",
              "      <td>NaN</td>\n",
              "    </tr>\n",
              "    <tr>\n",
              "      <th>2</th>\n",
              "      <td>GRHIX</td>\n",
              "      <td>Goehring &amp; Rozencwajg Resources Instl</td>\n",
              "      <td>14.13+0.52(+3.82%)</td>\n",
              "      <td>0.52</td>\n",
              "      <td>+3.82%</td>\n",
              "      <td>12.87</td>\n",
              "      <td>13.11</td>\n",
              "      <td>-2.39%</td>\n",
              "      <td>+0.80%</td>\n",
              "      <td>-5.61%</td>\n",
              "      <td>NaN</td>\n",
              "    </tr>\n",
              "    <tr>\n",
              "      <th>3</th>\n",
              "      <td>GRHAX</td>\n",
              "      <td>Goehring &amp; Rozencwajg Resources Retail</td>\n",
              "      <td>13.93+0.50(+3.72%)</td>\n",
              "      <td>0.50</td>\n",
              "      <td>+3.72%</td>\n",
              "      <td>12.70</td>\n",
              "      <td>12.94</td>\n",
              "      <td>-2.50%</td>\n",
              "      <td>+0.64%</td>\n",
              "      <td>-5.81%</td>\n",
              "      <td>NaN</td>\n",
              "    </tr>\n",
              "    <tr>\n",
              "      <th>4</th>\n",
              "      <td>PMPIX</td>\n",
              "      <td>ProFunds Precious Metals UltraSector Inv</td>\n",
              "      <td>78.73+2.70(+3.55%)</td>\n",
              "      <td>2.70</td>\n",
              "      <td>+3.55%</td>\n",
              "      <td>73.49</td>\n",
              "      <td>61.20</td>\n",
              "      <td>+38.01%</td>\n",
              "      <td>+69.71%</td>\n",
              "      <td>+49.99%</td>\n",
              "      <td>NaN</td>\n",
              "    </tr>\n",
              "  </tbody>\n",
              "</table>\n",
              "</div>\n",
              "    <div class=\"colab-df-buttons\">\n",
              "\n",
              "  <div class=\"colab-df-container\">\n",
              "    <button class=\"colab-df-convert\" onclick=\"convertToInteractive('df-93238750-5c4c-4da1-af4c-c4568b8f0a73')\"\n",
              "            title=\"Convert this dataframe to an interactive table.\"\n",
              "            style=\"display:none;\">\n",
              "\n",
              "  <svg xmlns=\"http://www.w3.org/2000/svg\" height=\"24px\" viewBox=\"0 -960 960 960\">\n",
              "    <path d=\"M120-120v-720h720v720H120Zm60-500h600v-160H180v160Zm220 220h160v-160H400v160Zm0 220h160v-160H400v160ZM180-400h160v-160H180v160Zm440 0h160v-160H620v160ZM180-180h160v-160H180v160Zm440 0h160v-160H620v160Z\"/>\n",
              "  </svg>\n",
              "    </button>\n",
              "\n",
              "  <style>\n",
              "    .colab-df-container {\n",
              "      display:flex;\n",
              "      gap: 12px;\n",
              "    }\n",
              "\n",
              "    .colab-df-convert {\n",
              "      background-color: #E8F0FE;\n",
              "      border: none;\n",
              "      border-radius: 50%;\n",
              "      cursor: pointer;\n",
              "      display: none;\n",
              "      fill: #1967D2;\n",
              "      height: 32px;\n",
              "      padding: 0 0 0 0;\n",
              "      width: 32px;\n",
              "    }\n",
              "\n",
              "    .colab-df-convert:hover {\n",
              "      background-color: #E2EBFA;\n",
              "      box-shadow: 0px 1px 2px rgba(60, 64, 67, 0.3), 0px 1px 3px 1px rgba(60, 64, 67, 0.15);\n",
              "      fill: #174EA6;\n",
              "    }\n",
              "\n",
              "    .colab-df-buttons div {\n",
              "      margin-bottom: 4px;\n",
              "    }\n",
              "\n",
              "    [theme=dark] .colab-df-convert {\n",
              "      background-color: #3B4455;\n",
              "      fill: #D2E3FC;\n",
              "    }\n",
              "\n",
              "    [theme=dark] .colab-df-convert:hover {\n",
              "      background-color: #434B5C;\n",
              "      box-shadow: 0px 1px 3px 1px rgba(0, 0, 0, 0.15);\n",
              "      filter: drop-shadow(0px 1px 2px rgba(0, 0, 0, 0.3));\n",
              "      fill: #FFFFFF;\n",
              "    }\n",
              "  </style>\n",
              "\n",
              "    <script>\n",
              "      const buttonEl =\n",
              "        document.querySelector('#df-93238750-5c4c-4da1-af4c-c4568b8f0a73 button.colab-df-convert');\n",
              "      buttonEl.style.display =\n",
              "        google.colab.kernel.accessAllowed ? 'block' : 'none';\n",
              "\n",
              "      async function convertToInteractive(key) {\n",
              "        const element = document.querySelector('#df-93238750-5c4c-4da1-af4c-c4568b8f0a73');\n",
              "        const dataTable =\n",
              "          await google.colab.kernel.invokeFunction('convertToInteractive',\n",
              "                                                    [key], {});\n",
              "        if (!dataTable) return;\n",
              "\n",
              "        const docLinkHtml = 'Like what you see? Visit the ' +\n",
              "          '<a target=\"_blank\" href=https://colab.research.google.com/notebooks/data_table.ipynb>data table notebook</a>'\n",
              "          + ' to learn more about interactive tables.';\n",
              "        element.innerHTML = '';\n",
              "        dataTable['output_type'] = 'display_data';\n",
              "        await google.colab.output.renderOutput(dataTable, element);\n",
              "        const docLink = document.createElement('div');\n",
              "        docLink.innerHTML = docLinkHtml;\n",
              "        element.appendChild(docLink);\n",
              "      }\n",
              "    </script>\n",
              "  </div>\n",
              "\n",
              "\n",
              "    <div id=\"df-d03174e5-a6aa-4a7e-a01c-53d6cfc572fa\">\n",
              "      <button class=\"colab-df-quickchart\" onclick=\"quickchart('df-d03174e5-a6aa-4a7e-a01c-53d6cfc572fa')\"\n",
              "                title=\"Suggest charts\"\n",
              "                style=\"display:none;\">\n",
              "\n",
              "<svg xmlns=\"http://www.w3.org/2000/svg\" height=\"24px\"viewBox=\"0 0 24 24\"\n",
              "     width=\"24px\">\n",
              "    <g>\n",
              "        <path d=\"M19 3H5c-1.1 0-2 .9-2 2v14c0 1.1.9 2 2 2h14c1.1 0 2-.9 2-2V5c0-1.1-.9-2-2-2zM9 17H7v-7h2v7zm4 0h-2V7h2v10zm4 0h-2v-4h2v4z\"/>\n",
              "    </g>\n",
              "</svg>\n",
              "      </button>\n",
              "\n",
              "<style>\n",
              "  .colab-df-quickchart {\n",
              "      --bg-color: #E8F0FE;\n",
              "      --fill-color: #1967D2;\n",
              "      --hover-bg-color: #E2EBFA;\n",
              "      --hover-fill-color: #174EA6;\n",
              "      --disabled-fill-color: #AAA;\n",
              "      --disabled-bg-color: #DDD;\n",
              "  }\n",
              "\n",
              "  [theme=dark] .colab-df-quickchart {\n",
              "      --bg-color: #3B4455;\n",
              "      --fill-color: #D2E3FC;\n",
              "      --hover-bg-color: #434B5C;\n",
              "      --hover-fill-color: #FFFFFF;\n",
              "      --disabled-bg-color: #3B4455;\n",
              "      --disabled-fill-color: #666;\n",
              "  }\n",
              "\n",
              "  .colab-df-quickchart {\n",
              "    background-color: var(--bg-color);\n",
              "    border: none;\n",
              "    border-radius: 50%;\n",
              "    cursor: pointer;\n",
              "    display: none;\n",
              "    fill: var(--fill-color);\n",
              "    height: 32px;\n",
              "    padding: 0;\n",
              "    width: 32px;\n",
              "  }\n",
              "\n",
              "  .colab-df-quickchart:hover {\n",
              "    background-color: var(--hover-bg-color);\n",
              "    box-shadow: 0 1px 2px rgba(60, 64, 67, 0.3), 0 1px 3px 1px rgba(60, 64, 67, 0.15);\n",
              "    fill: var(--button-hover-fill-color);\n",
              "  }\n",
              "\n",
              "  .colab-df-quickchart-complete:disabled,\n",
              "  .colab-df-quickchart-complete:disabled:hover {\n",
              "    background-color: var(--disabled-bg-color);\n",
              "    fill: var(--disabled-fill-color);\n",
              "    box-shadow: none;\n",
              "  }\n",
              "\n",
              "  .colab-df-spinner {\n",
              "    border: 2px solid var(--fill-color);\n",
              "    border-color: transparent;\n",
              "    border-bottom-color: var(--fill-color);\n",
              "    animation:\n",
              "      spin 1s steps(1) infinite;\n",
              "  }\n",
              "\n",
              "  @keyframes spin {\n",
              "    0% {\n",
              "      border-color: transparent;\n",
              "      border-bottom-color: var(--fill-color);\n",
              "      border-left-color: var(--fill-color);\n",
              "    }\n",
              "    20% {\n",
              "      border-color: transparent;\n",
              "      border-left-color: var(--fill-color);\n",
              "      border-top-color: var(--fill-color);\n",
              "    }\n",
              "    30% {\n",
              "      border-color: transparent;\n",
              "      border-left-color: var(--fill-color);\n",
              "      border-top-color: var(--fill-color);\n",
              "      border-right-color: var(--fill-color);\n",
              "    }\n",
              "    40% {\n",
              "      border-color: transparent;\n",
              "      border-right-color: var(--fill-color);\n",
              "      border-top-color: var(--fill-color);\n",
              "    }\n",
              "    60% {\n",
              "      border-color: transparent;\n",
              "      border-right-color: var(--fill-color);\n",
              "    }\n",
              "    80% {\n",
              "      border-color: transparent;\n",
              "      border-right-color: var(--fill-color);\n",
              "      border-bottom-color: var(--fill-color);\n",
              "    }\n",
              "    90% {\n",
              "      border-color: transparent;\n",
              "      border-bottom-color: var(--fill-color);\n",
              "    }\n",
              "  }\n",
              "</style>\n",
              "\n",
              "      <script>\n",
              "        async function quickchart(key) {\n",
              "          const quickchartButtonEl =\n",
              "            document.querySelector('#' + key + ' button');\n",
              "          quickchartButtonEl.disabled = true;  // To prevent multiple clicks.\n",
              "          quickchartButtonEl.classList.add('colab-df-spinner');\n",
              "          try {\n",
              "            const charts = await google.colab.kernel.invokeFunction(\n",
              "                'suggestCharts', [key], {});\n",
              "          } catch (error) {\n",
              "            console.error('Error during call to suggestCharts:', error);\n",
              "          }\n",
              "          quickchartButtonEl.classList.remove('colab-df-spinner');\n",
              "          quickchartButtonEl.classList.add('colab-df-quickchart-complete');\n",
              "        }\n",
              "        (() => {\n",
              "          let quickchartButtonEl =\n",
              "            document.querySelector('#df-d03174e5-a6aa-4a7e-a01c-53d6cfc572fa button');\n",
              "          quickchartButtonEl.style.display =\n",
              "            google.colab.kernel.accessAllowed ? 'block' : 'none';\n",
              "        })();\n",
              "      </script>\n",
              "    </div>\n",
              "\n",
              "    </div>\n",
              "  </div>\n"
            ],
            "application/vnd.google.colaboratory.intrinsic+json": {
              "type": "dataframe",
              "variable_name": "df",
              "summary": "{\n  \"name\": \"df\",\n  \"rows\": 366,\n  \"fields\": [\n    {\n      \"column\": \"Symbol\",\n      \"properties\": {\n        \"dtype\": \"string\",\n        \"num_unique_values\": 341,\n        \"samples\": [\n          \"FCGCX\",\n          \"PNRCX\",\n          \"0P0001RDCI\"\n        ],\n        \"semantic_type\": \"\",\n        \"description\": \"\"\n      }\n    },\n    {\n      \"column\": \"Name\",\n      \"properties\": {\n        \"dtype\": \"string\",\n        \"num_unique_values\": 309,\n        \"samples\": [\n          \"DWS RREEF Global Infrastructure Inst\",\n          \"OCM Gold Investor\",\n          \"Rydex Precious Metals H\"\n        ],\n        \"semantic_type\": \"\",\n        \"description\": \"\"\n      }\n    },\n    {\n      \"column\": \"Price\",\n      \"properties\": {\n        \"dtype\": \"string\",\n        \"num_unique_values\": 329,\n        \"samples\": [\n          \"18.62+0.51(+2.82%)\",\n          \"19.20+0.27(+1.43%)\",\n          \"12.38+0.19(+1.55%)\"\n        ],\n        \"semantic_type\": \"\",\n        \"description\": \"\"\n      }\n    },\n    {\n      \"column\": \"Change\",\n      \"properties\": {\n        \"dtype\": \"number\",\n        \"std\": 2.339470287933071,\n        \"min\": -0.66,\n        \"max\": 32.33,\n        \"num_unique_values\": 129,\n        \"samples\": [\n          4.44,\n          1.7,\n          0.75\n        ],\n        \"semantic_type\": \"\",\n        \"description\": \"\"\n      }\n    },\n    {\n      \"column\": \"Change %\",\n      \"properties\": {\n        \"dtype\": \"category\",\n        \"num_unique_values\": 120,\n        \"samples\": [\n          \"+2.00%\",\n          \"+1.95%\",\n          \"+3.55%\"\n        ],\n        \"semantic_type\": \"\",\n        \"description\": \"\"\n      }\n    },\n    {\n      \"column\": \"50 Day Avg\",\n      \"properties\": {\n        \"dtype\": \"string\",\n        \"num_unique_values\": 316,\n        \"samples\": [\n          \"41.45\",\n          \"33.12\",\n          \"116.79\"\n        ],\n        \"semantic_type\": \"\",\n        \"description\": \"\"\n      }\n    },\n    {\n      \"column\": \"200 Day Avg\",\n      \"properties\": {\n        \"dtype\": \"string\",\n        \"num_unique_values\": 312,\n        \"samples\": [\n          \"15.70\",\n          \"14.64\",\n          \"10.74\"\n        ],\n        \"semantic_type\": \"\",\n        \"description\": \"\"\n      }\n    },\n    {\n      \"column\": \"3 Month Return\",\n      \"properties\": {\n        \"dtype\": \"string\",\n        \"num_unique_values\": 291,\n        \"samples\": [\n          \"+3.39%\",\n          \"+11.68%\",\n          \"-3.17%\"\n        ],\n        \"semantic_type\": \"\",\n        \"description\": \"\"\n      }\n    },\n    {\n      \"column\": \"YTD Return\",\n      \"properties\": {\n        \"dtype\": \"string\",\n        \"num_unique_values\": 284,\n        \"samples\": [\n          \"+46.46%\",\n          \"+13.52%\",\n          \"+10.73%\"\n        ],\n        \"semantic_type\": \"\",\n        \"description\": \"\"\n      }\n    },\n    {\n      \"column\": \"52 Wk Change %\",\n      \"properties\": {\n        \"dtype\": \"string\",\n        \"num_unique_values\": 307,\n        \"samples\": [\n          \"-7.23%\",\n          \"+28.34%\",\n          \"+13.82%\"\n        ],\n        \"semantic_type\": \"\",\n        \"description\": \"\"\n      }\n    },\n    {\n      \"column\": \"52 Wk Range\",\n      \"properties\": {\n        \"dtype\": \"number\",\n        \"std\": null,\n        \"min\": null,\n        \"max\": null,\n        \"num_unique_values\": 0,\n        \"samples\": [],\n        \"semantic_type\": \"\",\n        \"description\": \"\"\n      }\n    }\n  ]\n}"
            }
          },
          "metadata": {},
          "execution_count": 7
        }
      ]
    },
    {
      "cell_type": "markdown",
      "source": [
        "# Check shape and info"
      ],
      "metadata": {
        "id": "Nz8KsAaC5Wg2"
      }
    },
    {
      "cell_type": "code",
      "source": [
        "df.shape"
      ],
      "metadata": {
        "colab": {
          "base_uri": "https://localhost:8080/"
        },
        "id": "bDzllKVHqDXW",
        "outputId": "56e58723-7734-4645-dbec-ee3892fc941c"
      },
      "execution_count": 21,
      "outputs": [
        {
          "output_type": "execute_result",
          "data": {
            "text/plain": [
              "(341, 10)"
            ]
          },
          "metadata": {},
          "execution_count": 21
        }
      ]
    },
    {
      "cell_type": "code",
      "source": [
        "df.info()"
      ],
      "metadata": {
        "colab": {
          "base_uri": "https://localhost:8080/"
        },
        "id": "V4gtxvyf0A-L",
        "outputId": "f16d6aa3-dab6-433a-c9ec-e8a0d2672cda"
      },
      "execution_count": 25,
      "outputs": [
        {
          "output_type": "stream",
          "name": "stdout",
          "text": [
            "<class 'pandas.core.frame.DataFrame'>\n",
            "Index: 341 entries, 0 to 340\n",
            "Data columns (total 10 columns):\n",
            " #   Column          Non-Null Count  Dtype  \n",
            "---  ------          --------------  -----  \n",
            " 0   Symbol          341 non-null    object \n",
            " 1   Name            341 non-null    object \n",
            " 2   Price           341 non-null    float64\n",
            " 3   Change          341 non-null    float64\n",
            " 4   Change %        341 non-null    object \n",
            " 5   50 Day Avg      341 non-null    object \n",
            " 6   200 Day Avg     341 non-null    object \n",
            " 7   3 Month Return  341 non-null    object \n",
            " 8   YTD Return      341 non-null    object \n",
            " 9   52 Wk Change %  341 non-null    object \n",
            "dtypes: float64(2), object(8)\n",
            "memory usage: 29.3+ KB\n"
          ]
        }
      ]
    },
    {
      "cell_type": "markdown",
      "source": [
        "# 3. Data Cleaning and Preprocessing"
      ],
      "metadata": {
        "id": "f8DCCKpA5aMm"
      }
    },
    {
      "cell_type": "markdown",
      "source": [
        "## 3.1 Remove Duplicate Records"
      ],
      "metadata": {
        "id": "1Gjjb5925dyn"
      }
    },
    {
      "cell_type": "code",
      "source": [
        "df.drop_duplicates(inplace=True)"
      ],
      "metadata": {
        "id": "I5nfd5fZsAnE"
      },
      "execution_count": 19,
      "outputs": []
    },
    {
      "cell_type": "code",
      "source": [
        "df.duplicated().sum()"
      ],
      "metadata": {
        "colab": {
          "base_uri": "https://localhost:8080/"
        },
        "id": "1pFB3qgep1HG",
        "outputId": "558dc12c-9e95-42f2-8822-4b0e1fab3e82"
      },
      "execution_count": 20,
      "outputs": [
        {
          "output_type": "execute_result",
          "data": {
            "text/plain": [
              "np.int64(0)"
            ]
          },
          "metadata": {},
          "execution_count": 20
        }
      ]
    },
    {
      "cell_type": "code",
      "source": [
        "df.isnull().sum()"
      ],
      "metadata": {
        "colab": {
          "base_uri": "https://localhost:8080/",
          "height": 397
        },
        "id": "x6kbG7eHp--p",
        "outputId": "60534425-a009-448e-d0f8-9c9929bf1df8"
      },
      "execution_count": 17,
      "outputs": [
        {
          "output_type": "execute_result",
          "data": {
            "text/plain": [
              "Symbol            0\n",
              "Name              0\n",
              "Price             0\n",
              "Change            0\n",
              "Change %          0\n",
              "50 Day Avg        0\n",
              "200 Day Avg       0\n",
              "3 Month Return    0\n",
              "YTD Return        0\n",
              "52 Wk Change %    0\n",
              "dtype: int64"
            ],
            "text/html": [
              "<div>\n",
              "<style scoped>\n",
              "    .dataframe tbody tr th:only-of-type {\n",
              "        vertical-align: middle;\n",
              "    }\n",
              "\n",
              "    .dataframe tbody tr th {\n",
              "        vertical-align: top;\n",
              "    }\n",
              "\n",
              "    .dataframe thead th {\n",
              "        text-align: right;\n",
              "    }\n",
              "</style>\n",
              "<table border=\"1\" class=\"dataframe\">\n",
              "  <thead>\n",
              "    <tr style=\"text-align: right;\">\n",
              "      <th></th>\n",
              "      <th>0</th>\n",
              "    </tr>\n",
              "  </thead>\n",
              "  <tbody>\n",
              "    <tr>\n",
              "      <th>Symbol</th>\n",
              "      <td>0</td>\n",
              "    </tr>\n",
              "    <tr>\n",
              "      <th>Name</th>\n",
              "      <td>0</td>\n",
              "    </tr>\n",
              "    <tr>\n",
              "      <th>Price</th>\n",
              "      <td>0</td>\n",
              "    </tr>\n",
              "    <tr>\n",
              "      <th>Change</th>\n",
              "      <td>0</td>\n",
              "    </tr>\n",
              "    <tr>\n",
              "      <th>Change %</th>\n",
              "      <td>0</td>\n",
              "    </tr>\n",
              "    <tr>\n",
              "      <th>50 Day Avg</th>\n",
              "      <td>0</td>\n",
              "    </tr>\n",
              "    <tr>\n",
              "      <th>200 Day Avg</th>\n",
              "      <td>0</td>\n",
              "    </tr>\n",
              "    <tr>\n",
              "      <th>3 Month Return</th>\n",
              "      <td>0</td>\n",
              "    </tr>\n",
              "    <tr>\n",
              "      <th>YTD Return</th>\n",
              "      <td>0</td>\n",
              "    </tr>\n",
              "    <tr>\n",
              "      <th>52 Wk Change %</th>\n",
              "      <td>0</td>\n",
              "    </tr>\n",
              "  </tbody>\n",
              "</table>\n",
              "</div><br><label><b>dtype:</b> int64</label>"
            ]
          },
          "metadata": {},
          "execution_count": 17
        }
      ]
    },
    {
      "cell_type": "markdown",
      "source": [
        "## 3.2 Drop Unnecessary Columns"
      ],
      "metadata": {
        "id": "ljldJ9y75njT"
      }
    },
    {
      "cell_type": "code",
      "source": [
        "# 1. Drop the '52 Wk Range' column\n",
        "df.drop(columns=['52 Wk Range'], inplace=True)"
      ],
      "metadata": {
        "id": "vwaVNBH8qPHE"
      },
      "execution_count": 14,
      "outputs": []
    },
    {
      "cell_type": "markdown",
      "source": [
        "##  3.3 Extract Only Numeric Price"
      ],
      "metadata": {
        "id": "A-wbPFSv5rPV"
      }
    },
    {
      "cell_type": "code",
      "source": [
        "# 2. Extract only the numeric price from 'Price' column (before '+' sign)\n",
        "df['Price'] = df['Price'].str.extract(r'([\\d.]+)')\n",
        "\n",
        "# Optional: Convert 'Price' to float type\n",
        "df['Price'] = df['Price'].astype(float)"
      ],
      "metadata": {
        "id": "6bzeBN8Dq517"
      },
      "execution_count": 15,
      "outputs": []
    },
    {
      "cell_type": "markdown",
      "source": [
        "## 3.4 Replace '--' with NaN in Specific Columns\n",
        "## 3.5 Clean and Convert Return Columns to Float"
      ],
      "metadata": {
        "id": "aZIdwMFn5vGS"
      }
    },
    {
      "cell_type": "code",
      "source": [
        "# Re-check for '--' and replace with NaN again just to be sure\n",
        "df[['3 Month Return', 'YTD Return']] = df[['3 Month Return', 'YTD Return']].replace('--', np.nan)\n",
        "\n",
        "# Ensure values are clean for conversion (remove %, spaces)\n",
        "df['3 Month Return'] = df['3 Month Return'].astype(str).str.replace('%', '', regex=False).str.strip()\n",
        "df['YTD Return'] = df['YTD Return'].astype(str).str.replace('%', '', regex=False).str.strip()\n",
        "\n",
        "# Convert to float (coerce will convert any invalid string to NaN)\n",
        "df['3 Month Return'] = pd.to_numeric(df['3 Month Return'], errors='coerce')\n",
        "df['YTD Return'] = pd.to_numeric(df['YTD Return'], errors='coerce')\n",
        "\n",
        "# Count how many NaNs exist (i.e., originally '--')\n",
        "count_3m_na = df['3 Month Return'].isna().sum()\n",
        "count_ytd_na = df['YTD Return'].isna().sum()\n",
        "print(\"NaNs in '3 Month Return':\", count_3m_na)\n",
        "print(\"NaNs in 'YTD Return':\", count_ytd_na)"
      ],
      "metadata": {
        "colab": {
          "base_uri": "https://localhost:8080/"
        },
        "id": "Ss-XaxHg0i_K",
        "outputId": "c6f145d3-f974-410e-ccdb-8953aa6c3375"
      },
      "execution_count": 35,
      "outputs": [
        {
          "output_type": "stream",
          "name": "stdout",
          "text": [
            "NaNs in '3 Month Return': 0\n",
            "NaNs in 'YTD Return': 0\n"
          ]
        }
      ]
    },
    {
      "cell_type": "markdown",
      "source": [
        "## 3.6 Fill NaN with Column Mean"
      ],
      "metadata": {
        "id": "O32VIKZg54tN"
      }
    },
    {
      "cell_type": "code",
      "source": [
        "df['3 Month Return'] = df['3 Month Return'].fillna(df['3 Month Return'].mean())\n",
        "df['YTD Return'] = df['YTD Return'].fillna(df['YTD Return'].mean())"
      ],
      "metadata": {
        "id": "k1bVruf72v5V"
      },
      "execution_count": 36,
      "outputs": []
    },
    {
      "cell_type": "markdown",
      "source": [
        "## 3.7 Add '%' Symbol Back After Imputation"
      ],
      "metadata": {
        "id": "SAe0axVF58ok"
      }
    },
    {
      "cell_type": "code",
      "source": [
        "#If you want to add the % symbol back:\n",
        "df['3 Month Return'] = df['3 Month Return'].round(2).astype(str) + '%'\n",
        "df['YTD Return'] = df['YTD Return'].round(2).astype(str) + '%'"
      ],
      "metadata": {
        "id": "FUZPeBCz2IIE"
      },
      "execution_count": 37,
      "outputs": []
    },
    {
      "cell_type": "markdown",
      "source": [
        "## 4. Rename Columns for Clarity"
      ],
      "metadata": {
        "id": "XGXsyYDI6AeW"
      }
    },
    {
      "cell_type": "code",
      "source": [
        "df.rename(columns={\n",
        "    'Change %': 'Daily Change %',\n",
        "    '50 Day Avg': '50-Day Moving Avg',\n",
        "    '200 Day Avg': '200-Day Moving Avg',\n",
        "    '3 Month Return': '3-Month Return %',\n",
        "    'YTD Return': 'Year-To-Date Return %',\n",
        "    '52 Wk Change %': '52-Week Change %'\n",
        "}, inplace=True)"
      ],
      "metadata": {
        "id": "7T_XcZco3gDq"
      },
      "execution_count": 41,
      "outputs": []
    },
    {
      "cell_type": "markdown",
      "source": [
        "## 5. Final Check"
      ],
      "metadata": {
        "id": "P8YWGssl6Ggk"
      }
    },
    {
      "cell_type": "code",
      "source": [
        "df.shape\n",
        "df.head()"
      ],
      "metadata": {
        "colab": {
          "base_uri": "https://localhost:8080/",
          "height": 573
        },
        "id": "d5uSdW8w3irw",
        "outputId": "617910ab-2dbe-4ef9-fcda-0cf23e0f55f9"
      },
      "execution_count": 44,
      "outputs": [
        {
          "output_type": "execute_result",
          "data": {
            "text/plain": [
              "       Symbol                                      Name  Price  Change  \\\n",
              "0       FTPAX           First Trust Private Assets Fund  11.51    0.89   \n",
              "1  0P0001T9Z1           CSOP Ether ETF Unlisted Share C   6.23    0.28   \n",
              "2       GRHIX     Goehring & Rozencwajg Resources Instl  14.13    0.52   \n",
              "3       GRHAX    Goehring & Rozencwajg Resources Retail  13.93    0.50   \n",
              "4       PMPIX  ProFunds Precious Metals UltraSector Inv  78.73    2.70   \n",
              "\n",
              "  Daily Change % 50-Day Moving Avg 200-Day Moving Avg 3-Month Return %  \\\n",
              "0         +8.38%             10.82              10.82            6.59%   \n",
              "1         +4.67%              4.70               6.65          -43.65%   \n",
              "2         +3.82%             12.87              13.11           -2.39%   \n",
              "3         +3.72%             12.70              12.94            -2.5%   \n",
              "4         +3.55%             73.49              61.20           38.01%   \n",
              "\n",
              "  Year-To-Date Return % 52-Week Change %  \n",
              "0                 10.1%          +11.53%  \n",
              "1               -48.37%          -31.09%  \n",
              "2                  0.8%           -5.61%  \n",
              "3                 0.64%           -5.81%  \n",
              "4                69.71%          +49.99%  "
            ],
            "text/html": [
              "\n",
              "  <div id=\"df-f16aed15-256e-4078-864d-e643cef5edfb\" class=\"colab-df-container\">\n",
              "    <div>\n",
              "<style scoped>\n",
              "    .dataframe tbody tr th:only-of-type {\n",
              "        vertical-align: middle;\n",
              "    }\n",
              "\n",
              "    .dataframe tbody tr th {\n",
              "        vertical-align: top;\n",
              "    }\n",
              "\n",
              "    .dataframe thead th {\n",
              "        text-align: right;\n",
              "    }\n",
              "</style>\n",
              "<table border=\"1\" class=\"dataframe\">\n",
              "  <thead>\n",
              "    <tr style=\"text-align: right;\">\n",
              "      <th></th>\n",
              "      <th>Symbol</th>\n",
              "      <th>Name</th>\n",
              "      <th>Price</th>\n",
              "      <th>Change</th>\n",
              "      <th>Daily Change %</th>\n",
              "      <th>50-Day Moving Avg</th>\n",
              "      <th>200-Day Moving Avg</th>\n",
              "      <th>3-Month Return %</th>\n",
              "      <th>Year-To-Date Return %</th>\n",
              "      <th>52-Week Change %</th>\n",
              "    </tr>\n",
              "  </thead>\n",
              "  <tbody>\n",
              "    <tr>\n",
              "      <th>0</th>\n",
              "      <td>FTPAX</td>\n",
              "      <td>First Trust Private Assets Fund</td>\n",
              "      <td>11.51</td>\n",
              "      <td>0.89</td>\n",
              "      <td>+8.38%</td>\n",
              "      <td>10.82</td>\n",
              "      <td>10.82</td>\n",
              "      <td>6.59%</td>\n",
              "      <td>10.1%</td>\n",
              "      <td>+11.53%</td>\n",
              "    </tr>\n",
              "    <tr>\n",
              "      <th>1</th>\n",
              "      <td>0P0001T9Z1</td>\n",
              "      <td>CSOP Ether ETF Unlisted Share C</td>\n",
              "      <td>6.23</td>\n",
              "      <td>0.28</td>\n",
              "      <td>+4.67%</td>\n",
              "      <td>4.70</td>\n",
              "      <td>6.65</td>\n",
              "      <td>-43.65%</td>\n",
              "      <td>-48.37%</td>\n",
              "      <td>-31.09%</td>\n",
              "    </tr>\n",
              "    <tr>\n",
              "      <th>2</th>\n",
              "      <td>GRHIX</td>\n",
              "      <td>Goehring &amp; Rozencwajg Resources Instl</td>\n",
              "      <td>14.13</td>\n",
              "      <td>0.52</td>\n",
              "      <td>+3.82%</td>\n",
              "      <td>12.87</td>\n",
              "      <td>13.11</td>\n",
              "      <td>-2.39%</td>\n",
              "      <td>0.8%</td>\n",
              "      <td>-5.61%</td>\n",
              "    </tr>\n",
              "    <tr>\n",
              "      <th>3</th>\n",
              "      <td>GRHAX</td>\n",
              "      <td>Goehring &amp; Rozencwajg Resources Retail</td>\n",
              "      <td>13.93</td>\n",
              "      <td>0.50</td>\n",
              "      <td>+3.72%</td>\n",
              "      <td>12.70</td>\n",
              "      <td>12.94</td>\n",
              "      <td>-2.5%</td>\n",
              "      <td>0.64%</td>\n",
              "      <td>-5.81%</td>\n",
              "    </tr>\n",
              "    <tr>\n",
              "      <th>4</th>\n",
              "      <td>PMPIX</td>\n",
              "      <td>ProFunds Precious Metals UltraSector Inv</td>\n",
              "      <td>78.73</td>\n",
              "      <td>2.70</td>\n",
              "      <td>+3.55%</td>\n",
              "      <td>73.49</td>\n",
              "      <td>61.20</td>\n",
              "      <td>38.01%</td>\n",
              "      <td>69.71%</td>\n",
              "      <td>+49.99%</td>\n",
              "    </tr>\n",
              "  </tbody>\n",
              "</table>\n",
              "</div>\n",
              "    <div class=\"colab-df-buttons\">\n",
              "\n",
              "  <div class=\"colab-df-container\">\n",
              "    <button class=\"colab-df-convert\" onclick=\"convertToInteractive('df-f16aed15-256e-4078-864d-e643cef5edfb')\"\n",
              "            title=\"Convert this dataframe to an interactive table.\"\n",
              "            style=\"display:none;\">\n",
              "\n",
              "  <svg xmlns=\"http://www.w3.org/2000/svg\" height=\"24px\" viewBox=\"0 -960 960 960\">\n",
              "    <path d=\"M120-120v-720h720v720H120Zm60-500h600v-160H180v160Zm220 220h160v-160H400v160Zm0 220h160v-160H400v160ZM180-400h160v-160H180v160Zm440 0h160v-160H620v160ZM180-180h160v-160H180v160Zm440 0h160v-160H620v160Z\"/>\n",
              "  </svg>\n",
              "    </button>\n",
              "\n",
              "  <style>\n",
              "    .colab-df-container {\n",
              "      display:flex;\n",
              "      gap: 12px;\n",
              "    }\n",
              "\n",
              "    .colab-df-convert {\n",
              "      background-color: #E8F0FE;\n",
              "      border: none;\n",
              "      border-radius: 50%;\n",
              "      cursor: pointer;\n",
              "      display: none;\n",
              "      fill: #1967D2;\n",
              "      height: 32px;\n",
              "      padding: 0 0 0 0;\n",
              "      width: 32px;\n",
              "    }\n",
              "\n",
              "    .colab-df-convert:hover {\n",
              "      background-color: #E2EBFA;\n",
              "      box-shadow: 0px 1px 2px rgba(60, 64, 67, 0.3), 0px 1px 3px 1px rgba(60, 64, 67, 0.15);\n",
              "      fill: #174EA6;\n",
              "    }\n",
              "\n",
              "    .colab-df-buttons div {\n",
              "      margin-bottom: 4px;\n",
              "    }\n",
              "\n",
              "    [theme=dark] .colab-df-convert {\n",
              "      background-color: #3B4455;\n",
              "      fill: #D2E3FC;\n",
              "    }\n",
              "\n",
              "    [theme=dark] .colab-df-convert:hover {\n",
              "      background-color: #434B5C;\n",
              "      box-shadow: 0px 1px 3px 1px rgba(0, 0, 0, 0.15);\n",
              "      filter: drop-shadow(0px 1px 2px rgba(0, 0, 0, 0.3));\n",
              "      fill: #FFFFFF;\n",
              "    }\n",
              "  </style>\n",
              "\n",
              "    <script>\n",
              "      const buttonEl =\n",
              "        document.querySelector('#df-f16aed15-256e-4078-864d-e643cef5edfb button.colab-df-convert');\n",
              "      buttonEl.style.display =\n",
              "        google.colab.kernel.accessAllowed ? 'block' : 'none';\n",
              "\n",
              "      async function convertToInteractive(key) {\n",
              "        const element = document.querySelector('#df-f16aed15-256e-4078-864d-e643cef5edfb');\n",
              "        const dataTable =\n",
              "          await google.colab.kernel.invokeFunction('convertToInteractive',\n",
              "                                                    [key], {});\n",
              "        if (!dataTable) return;\n",
              "\n",
              "        const docLinkHtml = 'Like what you see? Visit the ' +\n",
              "          '<a target=\"_blank\" href=https://colab.research.google.com/notebooks/data_table.ipynb>data table notebook</a>'\n",
              "          + ' to learn more about interactive tables.';\n",
              "        element.innerHTML = '';\n",
              "        dataTable['output_type'] = 'display_data';\n",
              "        await google.colab.output.renderOutput(dataTable, element);\n",
              "        const docLink = document.createElement('div');\n",
              "        docLink.innerHTML = docLinkHtml;\n",
              "        element.appendChild(docLink);\n",
              "      }\n",
              "    </script>\n",
              "  </div>\n",
              "\n",
              "\n",
              "    <div id=\"df-21d4a37c-f6ef-4187-8949-e7691bbe9225\">\n",
              "      <button class=\"colab-df-quickchart\" onclick=\"quickchart('df-21d4a37c-f6ef-4187-8949-e7691bbe9225')\"\n",
              "                title=\"Suggest charts\"\n",
              "                style=\"display:none;\">\n",
              "\n",
              "<svg xmlns=\"http://www.w3.org/2000/svg\" height=\"24px\"viewBox=\"0 0 24 24\"\n",
              "     width=\"24px\">\n",
              "    <g>\n",
              "        <path d=\"M19 3H5c-1.1 0-2 .9-2 2v14c0 1.1.9 2 2 2h14c1.1 0 2-.9 2-2V5c0-1.1-.9-2-2-2zM9 17H7v-7h2v7zm4 0h-2V7h2v10zm4 0h-2v-4h2v4z\"/>\n",
              "    </g>\n",
              "</svg>\n",
              "      </button>\n",
              "\n",
              "<style>\n",
              "  .colab-df-quickchart {\n",
              "      --bg-color: #E8F0FE;\n",
              "      --fill-color: #1967D2;\n",
              "      --hover-bg-color: #E2EBFA;\n",
              "      --hover-fill-color: #174EA6;\n",
              "      --disabled-fill-color: #AAA;\n",
              "      --disabled-bg-color: #DDD;\n",
              "  }\n",
              "\n",
              "  [theme=dark] .colab-df-quickchart {\n",
              "      --bg-color: #3B4455;\n",
              "      --fill-color: #D2E3FC;\n",
              "      --hover-bg-color: #434B5C;\n",
              "      --hover-fill-color: #FFFFFF;\n",
              "      --disabled-bg-color: #3B4455;\n",
              "      --disabled-fill-color: #666;\n",
              "  }\n",
              "\n",
              "  .colab-df-quickchart {\n",
              "    background-color: var(--bg-color);\n",
              "    border: none;\n",
              "    border-radius: 50%;\n",
              "    cursor: pointer;\n",
              "    display: none;\n",
              "    fill: var(--fill-color);\n",
              "    height: 32px;\n",
              "    padding: 0;\n",
              "    width: 32px;\n",
              "  }\n",
              "\n",
              "  .colab-df-quickchart:hover {\n",
              "    background-color: var(--hover-bg-color);\n",
              "    box-shadow: 0 1px 2px rgba(60, 64, 67, 0.3), 0 1px 3px 1px rgba(60, 64, 67, 0.15);\n",
              "    fill: var(--button-hover-fill-color);\n",
              "  }\n",
              "\n",
              "  .colab-df-quickchart-complete:disabled,\n",
              "  .colab-df-quickchart-complete:disabled:hover {\n",
              "    background-color: var(--disabled-bg-color);\n",
              "    fill: var(--disabled-fill-color);\n",
              "    box-shadow: none;\n",
              "  }\n",
              "\n",
              "  .colab-df-spinner {\n",
              "    border: 2px solid var(--fill-color);\n",
              "    border-color: transparent;\n",
              "    border-bottom-color: var(--fill-color);\n",
              "    animation:\n",
              "      spin 1s steps(1) infinite;\n",
              "  }\n",
              "\n",
              "  @keyframes spin {\n",
              "    0% {\n",
              "      border-color: transparent;\n",
              "      border-bottom-color: var(--fill-color);\n",
              "      border-left-color: var(--fill-color);\n",
              "    }\n",
              "    20% {\n",
              "      border-color: transparent;\n",
              "      border-left-color: var(--fill-color);\n",
              "      border-top-color: var(--fill-color);\n",
              "    }\n",
              "    30% {\n",
              "      border-color: transparent;\n",
              "      border-left-color: var(--fill-color);\n",
              "      border-top-color: var(--fill-color);\n",
              "      border-right-color: var(--fill-color);\n",
              "    }\n",
              "    40% {\n",
              "      border-color: transparent;\n",
              "      border-right-color: var(--fill-color);\n",
              "      border-top-color: var(--fill-color);\n",
              "    }\n",
              "    60% {\n",
              "      border-color: transparent;\n",
              "      border-right-color: var(--fill-color);\n",
              "    }\n",
              "    80% {\n",
              "      border-color: transparent;\n",
              "      border-right-color: var(--fill-color);\n",
              "      border-bottom-color: var(--fill-color);\n",
              "    }\n",
              "    90% {\n",
              "      border-color: transparent;\n",
              "      border-bottom-color: var(--fill-color);\n",
              "    }\n",
              "  }\n",
              "</style>\n",
              "\n",
              "      <script>\n",
              "        async function quickchart(key) {\n",
              "          const quickchartButtonEl =\n",
              "            document.querySelector('#' + key + ' button');\n",
              "          quickchartButtonEl.disabled = true;  // To prevent multiple clicks.\n",
              "          quickchartButtonEl.classList.add('colab-df-spinner');\n",
              "          try {\n",
              "            const charts = await google.colab.kernel.invokeFunction(\n",
              "                'suggestCharts', [key], {});\n",
              "          } catch (error) {\n",
              "            console.error('Error during call to suggestCharts:', error);\n",
              "          }\n",
              "          quickchartButtonEl.classList.remove('colab-df-spinner');\n",
              "          quickchartButtonEl.classList.add('colab-df-quickchart-complete');\n",
              "        }\n",
              "        (() => {\n",
              "          let quickchartButtonEl =\n",
              "            document.querySelector('#df-21d4a37c-f6ef-4187-8949-e7691bbe9225 button');\n",
              "          quickchartButtonEl.style.display =\n",
              "            google.colab.kernel.accessAllowed ? 'block' : 'none';\n",
              "        })();\n",
              "      </script>\n",
              "    </div>\n",
              "\n",
              "    </div>\n",
              "  </div>\n"
            ],
            "application/vnd.google.colaboratory.intrinsic+json": {
              "type": "dataframe",
              "variable_name": "df",
              "summary": "{\n  \"name\": \"df\",\n  \"rows\": 341,\n  \"fields\": [\n    {\n      \"column\": \"Symbol\",\n      \"properties\": {\n        \"dtype\": \"string\",\n        \"num_unique_values\": 341,\n        \"samples\": [\n          \"FCGCX\",\n          \"PNRCX\",\n          \"0P0001RDCI\"\n        ],\n        \"semantic_type\": \"\",\n        \"description\": \"\"\n      }\n    },\n    {\n      \"column\": \"Name\",\n      \"properties\": {\n        \"dtype\": \"string\",\n        \"num_unique_values\": 309,\n        \"samples\": [\n          \"DWS RREEF Global Infrastructure Inst\",\n          \"OCM Gold Investor\",\n          \"Rydex Precious Metals H\"\n        ],\n        \"semantic_type\": \"\",\n        \"description\": \"\"\n      }\n    },\n    {\n      \"column\": \"Price\",\n      \"properties\": {\n        \"dtype\": \"number\",\n        \"std\": 60.69812009696135,\n        \"min\": 1.0,\n        \"max\": 473.39,\n        \"num_unique_values\": 316,\n        \"samples\": [\n          5.83,\n          35.54,\n          52.9\n        ],\n        \"semantic_type\": \"\",\n        \"description\": \"\"\n      }\n    },\n    {\n      \"column\": \"Change\",\n      \"properties\": {\n        \"dtype\": \"number\",\n        \"std\": 2.2764531731145863,\n        \"min\": -0.66,\n        \"max\": 32.33,\n        \"num_unique_values\": 129,\n        \"samples\": [\n          4.44,\n          1.7,\n          0.75\n        ],\n        \"semantic_type\": \"\",\n        \"description\": \"\"\n      }\n    },\n    {\n      \"column\": \"Daily Change %\",\n      \"properties\": {\n        \"dtype\": \"category\",\n        \"num_unique_values\": 120,\n        \"samples\": [\n          \"+2.00%\",\n          \"+1.95%\",\n          \"+3.55%\"\n        ],\n        \"semantic_type\": \"\",\n        \"description\": \"\"\n      }\n    },\n    {\n      \"column\": \"50-Day Moving Avg\",\n      \"properties\": {\n        \"dtype\": \"string\",\n        \"num_unique_values\": 316,\n        \"samples\": [\n          \"41.45\",\n          \"33.12\",\n          \"116.79\"\n        ],\n        \"semantic_type\": \"\",\n        \"description\": \"\"\n      }\n    },\n    {\n      \"column\": \"200-Day Moving Avg\",\n      \"properties\": {\n        \"dtype\": \"string\",\n        \"num_unique_values\": 312,\n        \"samples\": [\n          \"15.70\",\n          \"14.64\",\n          \"10.74\"\n        ],\n        \"semantic_type\": \"\",\n        \"description\": \"\"\n      }\n    },\n    {\n      \"column\": \"3-Month Return %\",\n      \"properties\": {\n        \"dtype\": \"string\",\n        \"num_unique_values\": 291,\n        \"samples\": [\n          \"3.39%\",\n          \"11.68%\",\n          \"-3.17%\"\n        ],\n        \"semantic_type\": \"\",\n        \"description\": \"\"\n      }\n    },\n    {\n      \"column\": \"Year-To-Date Return %\",\n      \"properties\": {\n        \"dtype\": \"string\",\n        \"num_unique_values\": 283,\n        \"samples\": [\n          \"46.46%\",\n          \"7.15%\",\n          \"6.0%\"\n        ],\n        \"semantic_type\": \"\",\n        \"description\": \"\"\n      }\n    },\n    {\n      \"column\": \"52-Week Change %\",\n      \"properties\": {\n        \"dtype\": \"string\",\n        \"num_unique_values\": 307,\n        \"samples\": [\n          \"-7.23%\",\n          \"+28.34%\",\n          \"+13.82%\"\n        ],\n        \"semantic_type\": \"\",\n        \"description\": \"\"\n      }\n    }\n  ]\n}"
            }
          },
          "metadata": {},
          "execution_count": 44
        }
      ]
    }
  ]
}